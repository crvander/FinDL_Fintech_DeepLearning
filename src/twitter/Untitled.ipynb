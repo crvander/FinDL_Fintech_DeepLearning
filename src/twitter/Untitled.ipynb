{
 "cells": [
  {
   "cell_type": "code",
   "execution_count": 1,
   "id": "4a047273",
   "metadata": {},
   "outputs": [],
   "source": [
    "import pandas as pd"
   ]
  },
  {
   "cell_type": "code",
   "execution_count": 2,
   "id": "b1d3c0c0",
   "metadata": {},
   "outputs": [],
   "source": [
    "df = pd.read_csv(\"tweets.csv\")"
   ]
  },
  {
   "cell_type": "code",
   "execution_count": 9,
   "id": "215cec44",
   "metadata": {},
   "outputs": [
    {
     "data": {
      "text/html": [
       "<div>\n",
       "<style scoped>\n",
       "    .dataframe tbody tr th:only-of-type {\n",
       "        vertical-align: middle;\n",
       "    }\n",
       "\n",
       "    .dataframe tbody tr th {\n",
       "        vertical-align: top;\n",
       "    }\n",
       "\n",
       "    .dataframe thead th {\n",
       "        text-align: right;\n",
       "    }\n",
       "</style>\n",
       "<table border=\"1\" class=\"dataframe\">\n",
       "  <thead>\n",
       "    <tr style=\"text-align: right;\">\n",
       "      <th></th>\n",
       "      <th>tweet</th>\n",
       "      <th>timestamp</th>\n",
       "    </tr>\n",
       "  </thead>\n",
       "  <tbody>\n",
       "    <tr>\n",
       "      <th>0</th>\n",
       "      <td>Free Stock trading discord:  https://t.co/ZBTR...</td>\n",
       "      <td>2023-03-08T23:59:42.000Z</td>\n",
       "    </tr>\n",
       "    <tr>\n",
       "      <th>1</th>\n",
       "      <td>This circus will end one day …. One day it wil...</td>\n",
       "      <td>2023-03-08T23:59:20.000Z</td>\n",
       "    </tr>\n",
       "    <tr>\n",
       "      <th>2</th>\n",
       "      <td>STOCK TRADING ADVICE FROM OUR FREE TRADING DIS...</td>\n",
       "      <td>2023-03-08T23:59:20.000Z</td>\n",
       "    </tr>\n",
       "    <tr>\n",
       "      <th>3</th>\n",
       "      <td>20 days free trial available\\r\\nDiscord link b...</td>\n",
       "      <td>2023-03-08T23:59:14.000Z</td>\n",
       "    </tr>\n",
       "    <tr>\n",
       "      <th>4</th>\n",
       "      <td>We are on the right side of the market most of...</td>\n",
       "      <td>2023-03-08T23:58:56.000Z</td>\n",
       "    </tr>\n",
       "    <tr>\n",
       "      <th>...</th>\n",
       "      <td>...</td>\n",
       "      <td>...</td>\n",
       "    </tr>\n",
       "    <tr>\n",
       "      <th>495</th>\n",
       "      <td>Two-Day Risk-Free Trial ✅\\r\\n\\r\\nTo Sign Up\\r\\...</td>\n",
       "      <td>2023-03-12T23:30:07.000Z</td>\n",
       "    </tr>\n",
       "    <tr>\n",
       "      <th>496</th>\n",
       "      <td>Alerts 💰\\r\\nUpdate 📈📉\\r\\nWatchlist,💹💸\\r\\nDisco...</td>\n",
       "      <td>2023-03-12T23:30:01.000Z</td>\n",
       "    </tr>\n",
       "    <tr>\n",
       "      <th>497</th>\n",
       "      <td>Good morning traders! 🌞\\r\\nLet's start a fresh...</td>\n",
       "      <td>2023-03-12T23:29:43.000Z</td>\n",
       "    </tr>\n",
       "    <tr>\n",
       "      <th>498</th>\n",
       "      <td>Alerts given\\r\\nTrading Chat on Discord!👇\\r\\n\\...</td>\n",
       "      <td>2023-03-12T23:29:21.000Z</td>\n",
       "    </tr>\n",
       "    <tr>\n",
       "      <th>499</th>\n",
       "      <td>Make profits with us click here to join \\r\\nht...</td>\n",
       "      <td>2023-03-12T23:29:02.000Z</td>\n",
       "    </tr>\n",
       "  </tbody>\n",
       "</table>\n",
       "<p>500 rows × 2 columns</p>\n",
       "</div>"
      ],
      "text/plain": [
       "                                                 tweet  \\\n",
       "0    Free Stock trading discord:  https://t.co/ZBTR...   \n",
       "1    This circus will end one day …. One day it wil...   \n",
       "2    STOCK TRADING ADVICE FROM OUR FREE TRADING DIS...   \n",
       "3    20 days free trial available\\r\\nDiscord link b...   \n",
       "4    We are on the right side of the market most of...   \n",
       "..                                                 ...   \n",
       "495  Two-Day Risk-Free Trial ✅\\r\\n\\r\\nTo Sign Up\\r\\...   \n",
       "496  Alerts 💰\\r\\nUpdate 📈📉\\r\\nWatchlist,💹💸\\r\\nDisco...   \n",
       "497  Good morning traders! 🌞\\r\\nLet's start a fresh...   \n",
       "498  Alerts given\\r\\nTrading Chat on Discord!👇\\r\\n\\...   \n",
       "499  Make profits with us click here to join \\r\\nht...   \n",
       "\n",
       "                    timestamp  \n",
       "0    2023-03-08T23:59:42.000Z  \n",
       "1    2023-03-08T23:59:20.000Z  \n",
       "2    2023-03-08T23:59:20.000Z  \n",
       "3    2023-03-08T23:59:14.000Z  \n",
       "4    2023-03-08T23:58:56.000Z  \n",
       "..                        ...  \n",
       "495  2023-03-12T23:30:07.000Z  \n",
       "496  2023-03-12T23:30:01.000Z  \n",
       "497  2023-03-12T23:29:43.000Z  \n",
       "498  2023-03-12T23:29:21.000Z  \n",
       "499  2023-03-12T23:29:02.000Z  \n",
       "\n",
       "[500 rows x 2 columns]"
      ]
     },
     "execution_count": 9,
     "metadata": {},
     "output_type": "execute_result"
    }
   ],
   "source": [
    "df = \n",
    "df"
   ]
  },
  {
   "cell_type": "code",
   "execution_count": 14,
   "id": "a3976820",
   "metadata": {},
   "outputs": [
    {
     "data": {
      "text/html": [
       "<div>\n",
       "<style scoped>\n",
       "    .dataframe tbody tr th:only-of-type {\n",
       "        vertical-align: middle;\n",
       "    }\n",
       "\n",
       "    .dataframe tbody tr th {\n",
       "        vertical-align: top;\n",
       "    }\n",
       "\n",
       "    .dataframe thead th {\n",
       "        text-align: right;\n",
       "    }\n",
       "</style>\n",
       "<table border=\"1\" class=\"dataframe\">\n",
       "  <thead>\n",
       "    <tr style=\"text-align: right;\">\n",
       "      <th></th>\n",
       "      <th>tweet</th>\n",
       "      <th>timestamp</th>\n",
       "    </tr>\n",
       "  </thead>\n",
       "  <tbody>\n",
       "    <tr>\n",
       "      <th>0</th>\n",
       "      <td>Free Stock trading discord:  https://t.co/ZBTR...</td>\n",
       "      <td>2023-03-08</td>\n",
       "    </tr>\n",
       "    <tr>\n",
       "      <th>1</th>\n",
       "      <td>This circus will end one day …. One day it wil...</td>\n",
       "      <td>2023-03-08</td>\n",
       "    </tr>\n",
       "    <tr>\n",
       "      <th>2</th>\n",
       "      <td>STOCK TRADING ADVICE FROM OUR FREE TRADING DIS...</td>\n",
       "      <td>2023-03-08</td>\n",
       "    </tr>\n",
       "    <tr>\n",
       "      <th>3</th>\n",
       "      <td>20 days free trial available\\r\\nDiscord link b...</td>\n",
       "      <td>2023-03-08</td>\n",
       "    </tr>\n",
       "    <tr>\n",
       "      <th>4</th>\n",
       "      <td>We are on the right side of the market most of...</td>\n",
       "      <td>2023-03-08</td>\n",
       "    </tr>\n",
       "    <tr>\n",
       "      <th>...</th>\n",
       "      <td>...</td>\n",
       "      <td>...</td>\n",
       "    </tr>\n",
       "    <tr>\n",
       "      <th>495</th>\n",
       "      <td>Two-Day Risk-Free Trial ✅\\r\\n\\r\\nTo Sign Up\\r\\...</td>\n",
       "      <td>2023-03-12</td>\n",
       "    </tr>\n",
       "    <tr>\n",
       "      <th>496</th>\n",
       "      <td>Alerts 💰\\r\\nUpdate 📈📉\\r\\nWatchlist,💹💸\\r\\nDisco...</td>\n",
       "      <td>2023-03-12</td>\n",
       "    </tr>\n",
       "    <tr>\n",
       "      <th>497</th>\n",
       "      <td>Good morning traders! 🌞\\r\\nLet's start a fresh...</td>\n",
       "      <td>2023-03-12</td>\n",
       "    </tr>\n",
       "    <tr>\n",
       "      <th>498</th>\n",
       "      <td>Alerts given\\r\\nTrading Chat on Discord!👇\\r\\n\\...</td>\n",
       "      <td>2023-03-12</td>\n",
       "    </tr>\n",
       "    <tr>\n",
       "      <th>499</th>\n",
       "      <td>Make profits with us click here to join \\r\\nht...</td>\n",
       "      <td>2023-03-12</td>\n",
       "    </tr>\n",
       "  </tbody>\n",
       "</table>\n",
       "<p>500 rows × 2 columns</p>\n",
       "</div>"
      ],
      "text/plain": [
       "                                                 tweet   timestamp\n",
       "0    Free Stock trading discord:  https://t.co/ZBTR...  2023-03-08\n",
       "1    This circus will end one day …. One day it wil...  2023-03-08\n",
       "2    STOCK TRADING ADVICE FROM OUR FREE TRADING DIS...  2023-03-08\n",
       "3    20 days free trial available\\r\\nDiscord link b...  2023-03-08\n",
       "4    We are on the right side of the market most of...  2023-03-08\n",
       "..                                                 ...         ...\n",
       "495  Two-Day Risk-Free Trial ✅\\r\\n\\r\\nTo Sign Up\\r\\...  2023-03-12\n",
       "496  Alerts 💰\\r\\nUpdate 📈📉\\r\\nWatchlist,💹💸\\r\\nDisco...  2023-03-12\n",
       "497  Good morning traders! 🌞\\r\\nLet's start a fresh...  2023-03-12\n",
       "498  Alerts given\\r\\nTrading Chat on Discord!👇\\r\\n\\...  2023-03-12\n",
       "499  Make profits with us click here to join \\r\\nht...  2023-03-12\n",
       "\n",
       "[500 rows x 2 columns]"
      ]
     },
     "execution_count": 14,
     "metadata": {},
     "output_type": "execute_result"
    }
   ],
   "source": [
    "df['timestamp'] = df['timestamp'].str[:10]\n",
    "df"
   ]
  },
  {
   "cell_type": "code",
   "execution_count": 18,
   "id": "50229a36",
   "metadata": {},
   "outputs": [],
   "source": [
    "dictionary = df.groupby('timestamp')['tweet'].apply(list).to_dict()"
   ]
  },
  {
   "cell_type": "code",
   "execution_count": 22,
   "id": "864ab208",
   "metadata": {},
   "outputs": [
    {
     "name": "stdout",
     "output_type": "stream",
     "text": [
      "2023-03-08\n",
      "2023-03-09\n",
      "2023-03-10\n",
      "2023-03-11\n",
      "2023-03-12\n"
     ]
    }
   ],
   "source": [
    "for i in dictionary:\n",
    "    print(i)"
   ]
  },
  {
   "cell_type": "code",
   "execution_count": 24,
   "id": "9ae1ba66",
   "metadata": {},
   "outputs": [
    {
     "data": {
      "text/plain": [
       "'positive'"
      ]
     },
     "execution_count": 24,
     "metadata": {},
     "output_type": "execute_result"
    }
   ],
   "source": [
    "{'label': 'positive', 'score': 0.9998743534088135}['label']"
   ]
  },
  {
   "cell_type": "code",
   "execution_count": 26,
   "id": "bb58e50f",
   "metadata": {},
   "outputs": [],
   "source": [
    "a = []\n",
    "a.append(1)"
   ]
  },
  {
   "cell_type": "code",
   "execution_count": 27,
   "id": "dc44a1e5",
   "metadata": {},
   "outputs": [
    {
     "data": {
      "text/plain": [
       "[1]"
      ]
     },
     "execution_count": 27,
     "metadata": {},
     "output_type": "execute_result"
    }
   ],
   "source": [
    "a"
   ]
  },
  {
   "cell_type": "code",
   "execution_count": null,
   "id": "a4f38119",
   "metadata": {},
   "outputs": [],
   "source": []
  }
 ],
 "metadata": {
  "kernelspec": {
   "display_name": "Python 3 (ipykernel)",
   "language": "python",
   "name": "python3"
  },
  "language_info": {
   "codemirror_mode": {
    "name": "ipython",
    "version": 3
   },
   "file_extension": ".py",
   "mimetype": "text/x-python",
   "name": "python",
   "nbconvert_exporter": "python",
   "pygments_lexer": "ipython3",
   "version": "3.9.13"
  },
  "toc": {
   "base_numbering": 1,
   "nav_menu": {},
   "number_sections": true,
   "sideBar": true,
   "skip_h1_title": false,
   "title_cell": "Table of Contents",
   "title_sidebar": "Contents",
   "toc_cell": false,
   "toc_position": {},
   "toc_section_display": true,
   "toc_window_display": false
  },
  "varInspector": {
   "cols": {
    "lenName": 16,
    "lenType": 16,
    "lenVar": 40
   },
   "kernels_config": {
    "python": {
     "delete_cmd_postfix": "",
     "delete_cmd_prefix": "del ",
     "library": "var_list.py",
     "varRefreshCmd": "print(var_dic_list())"
    },
    "r": {
     "delete_cmd_postfix": ") ",
     "delete_cmd_prefix": "rm(",
     "library": "var_list.r",
     "varRefreshCmd": "cat(var_dic_list()) "
    }
   },
   "types_to_exclude": [
    "module",
    "function",
    "builtin_function_or_method",
    "instance",
    "_Feature"
   ],
   "window_display": false
  }
 },
 "nbformat": 4,
 "nbformat_minor": 5
}
